{
 "cells": [
  {
   "cell_type": "code",
   "execution_count": null,
   "source": [
    "from azureml.core import Workspace, Experiment\r\n",
    "\r\n",
    "ws = Workspace.get(name=\"<azure ml resource name>\",resouce_group=\"<nome of the resource group of the azure ml rosource>\", subscription_id=\"<subscription id>\")\r\n",
    "exp = Experiment(workspace=ws, name=\"udacity-project\")\r\n",
    "\r\n",
    "print('Workspace name: ' + ws.name, \r\n",
    "      'Azure region: ' + ws.location, \r\n",
    "      'Subscription id: ' + ws.subscription_id, \r\n",
    "      'Resource group: ' + ws.resource_group, sep = '\\n')\r\n",
    "\r\n",
    "run = exp.start_logging()"
   ],
   "outputs": [],
   "metadata": {
    "gather": {
     "logged": 1598275788035
    }
   }
  },
  {
   "cell_type": "code",
   "execution_count": null,
   "source": [
    "from azureml.core.compute import ComputeTarget, AmlCompute\r\n",
    "\r\n",
    "# TODO: Create compute cluster\r\n",
    "# Use vm_size = \"Standard_D2_V2\" in your provisioning configuration.\r\n",
    "# max_nodes should be no greater than 4.\r\n",
    "\r\n",
    "### YOUR CODE HERE ###\r\n",
    "# Choose a name for your CPU cluster\r\n",
    "cpu_cluster_name = \"cluster_for_train\"\r\n",
    "\r\n",
    "# Verify that cluster does not exist already\r\n",
    "try:\r\n",
    "    cpu_cluster = ComputeTarget(workspace=ws, name=cpu_cluster_name)\r\n",
    "    print('Found existing cluster, use it.')\r\n",
    "except ComputeTargetException:\r\n",
    "    print(\"creatione of the cluster\")\r\n",
    "    # To use a different region for the compute, add a location='<region>' parameter\r\n",
    "    compute_config = AmlCompute.provisioning_configuration(vm_size='STANDARD_D2_V2',\r\n",
    "                                                           max_nodes=4)\r\n",
    "    cpu_cluster = ComputeTarget.create(ws, cpu_cluster_name, compute_config)\r\n",
    "    print(\"cluster under creation\")\r\n",
    "    \r\n",
    "cpu_cluster.wait_for_completion(show_output=True)"
   ],
   "outputs": [],
   "metadata": {
    "gather": {
     "logged": 1598275788675
    },
    "jupyter": {
     "outputs_hidden": false,
     "source_hidden": false
    },
    "nteract": {
     "transient": {
      "deleting": false
     }
    }
   }
  },
  {
   "cell_type": "code",
   "execution_count": null,
   "source": [
    "from azureml.widgets import RunDetails\r\n",
    "from azureml.train.sklearn import SKLearn\r\n",
    "from azureml.train.hyperdrive.run import PrimaryMetricGoal\r\n",
    "from azureml.train.hyperdrive.policy import BanditPolicy\r\n",
    "from azureml.train.hyperdrive.sampling import RandomParameterSampling\r\n",
    "from azureml.train.hyperdrive.runconfig import HyperDriveConfig\r\n",
    "from azureml.train.hyperdrive.parameter_expressions import uniform\r\n",
    "import os\r\n",
    "\r\n",
    "# Specify parameter sampler\r\n",
    "ps = RandomParameterSampling( {\r\n",
    "        \"C\": uniform(0.001, 5)\r\n",
    "    }\r\n",
    "\r\n",
    "# Specify a Policy\r\n",
    "\r\n",
    "'''\r\n",
    "i have decided to pick median policy because the documetion at  \r\n",
    "https://docs.microsoft.com/en-us/azure/machine-learning/how-to-tune-hyperparameters\r\n",
    "says:\r\n",
    "\r\n",
    "For a conservative policy that provides savings without terminating promising jobs, consider a Median Stopping Policy with evaluation_interval 1 and delay_evaluation 5. These are conservative settings, that can provide approximately 25%-35% savings with no loss on primary metric (based on our evaluation data).\r\n",
    "\r\n",
    "For more aggressive savings, use Bandit Policy with a smaller allowable slack or Truncation Selection Policy with a larger truncation percentage.\r\n",
    "'''\r\n",
    "\r\n",
    "from azureml.train.hyperdrive import MedianStoppingPolicy\r\n",
    "policy = MedianStoppingPolicy(evaluation_interval=1, delay_evaluation=5)\r\n",
    "\r\n",
    "if \"training\" not in os.listdir():\r\n",
    "    os.mkdir(\"./training\")\r\n",
    "\r\n",
    "# Create a SKLearn estimator for use with train.py\r\n",
    "est = SKLearn(\"<source_directory>\")\r\n",
    "\r\n",
    "# Create a HyperDriveConfig using the estimator, hyperparameter sampler, and policy.\r\n",
    "hyperdrive_config =  HyperDriveConfig(run_config=script_run_config,\r\n",
    "                             hyperparameter_sampling=ps,\r\n",
    "                             policy=policy,\r\n",
    "                             primary_metric_name=\"accuracy\",\r\n",
    "                             primary_metric_goal=PrimaryMetricGoal.MAXIMIZE,\r\n",
    "                             max_total_runs=100,\r\n",
    "                             max_concurrent_runs=4)"
   ],
   "outputs": [],
   "metadata": {
    "gather": {
     "logged": 1598275789986
    },
    "jupyter": {
     "outputs_hidden": false,
     "source_hidden": false
    },
    "nteract": {
     "transient": {
      "deleting": false
     }
    }
   }
  },
  {
   "cell_type": "code",
   "execution_count": null,
   "source": [
    "# Submit your hyperdrive run to the experiment and show run details with the widget.\r\n",
    "\r\n",
    "### YOUR CODE HERE ###"
   ],
   "outputs": [],
   "metadata": {}
  },
  {
   "cell_type": "code",
   "execution_count": null,
   "source": [
    "import joblib\r\n",
    "# Get your best run and save the model from that run.\r\n",
    "\r\n",
    "### YOUR CODE HERE ###"
   ],
   "outputs": [],
   "metadata": {
    "gather": {
     "logged": 1598276310862
    },
    "jupyter": {
     "outputs_hidden": false,
     "source_hidden": false
    },
    "nteract": {
     "transient": {
      "deleting": false
     }
    }
   }
  },
  {
   "cell_type": "code",
   "execution_count": null,
   "source": [
    "from azureml.data.dataset_factory import TabularDatasetFactory\r\n",
    "\r\n",
    "# Create TabularDataset using TabularDatasetFactory\r\n",
    "# Data is available at: \r\n",
    "# \"https://automlsamplenotebookdata.blob.core.windows.net/automl-sample-notebook-data/bankmarketing_train.csv\"\r\n",
    "\r\n",
    "### YOUR CODE HERE ###"
   ],
   "outputs": [],
   "metadata": {}
  },
  {
   "cell_type": "code",
   "execution_count": null,
   "source": [
    "from train import clean_data\r\n",
    "\r\n",
    "# Use the clean_data function to clean your data.\r\n",
    "x, y = clean_data(### YOUR DATA OBJECT HERE ###)"
   ],
   "outputs": [],
   "metadata": {
    "gather": {
     "logged": 1598275726969
    },
    "jupyter": {
     "outputs_hidden": false,
     "source_hidden": false
    },
    "nteract": {
     "transient": {
      "deleting": false
     }
    }
   }
  },
  {
   "cell_type": "code",
   "execution_count": null,
   "source": [
    "from azureml.train.automl import AutoMLConfig\r\n",
    "\r\n",
    "# Set parameters for AutoMLConfig\r\n",
    "# NOTE: DO NOT CHANGE THE experiment_timeout_minutes PARAMETER OR YOUR INSTANCE WILL TIME OUT.\r\n",
    "# If you wish to run the experiment longer, you will need to run this notebook in your own\r\n",
    "# Azure tenant, which will incur personal costs.\r\n",
    "automl_config = AutoMLConfig(\r\n",
    "    experiment_timeout_minutes=30,\r\n",
    "    task=,\r\n",
    "    primary_metric=,\r\n",
    "    training_data=,\r\n",
    "    label_column_name=,\r\n",
    "    n_cross_validations=)"
   ],
   "outputs": [],
   "metadata": {
    "gather": {
     "logged": 1598275665403
    },
    "jupyter": {
     "outputs_hidden": false,
     "source_hidden": false
    },
    "nteract": {
     "transient": {
      "deleting": false
     }
    }
   }
  },
  {
   "cell_type": "code",
   "execution_count": 2,
   "source": [
    "# Submit your automl run\r\n",
    "\r\n",
    "### YOUR CODE HERE ###"
   ],
   "outputs": [],
   "metadata": {
    "jupyter": {
     "outputs_hidden": false,
     "source_hidden": false
    },
    "nteract": {
     "transient": {
      "deleting": false
     }
    }
   }
  },
  {
   "cell_type": "code",
   "execution_count": null,
   "source": [
    "# Retrieve and save your best automl model.\r\n",
    "\r\n",
    "### YOUR CODE HERE ###"
   ],
   "outputs": [],
   "metadata": {}
  }
 ],
 "metadata": {
  "kernel_info": {
   "name": "python3-azureml"
  },
  "kernelspec": {
   "display_name": "Python 3",
   "language": "python",
   "name": "python3"
  },
  "language_info": {
   "codemirror_mode": {
    "name": "ipython",
    "version": 3
   },
   "file_extension": ".py",
   "mimetype": "text/x-python",
   "name": "python",
   "nbconvert_exporter": "python",
   "pygments_lexer": "ipython3",
   "version": "3.7.4"
  },
  "nteract": {
   "version": "nteract-front-end@1.0.0"
  }
 },
 "nbformat": 4,
 "nbformat_minor": 2
}